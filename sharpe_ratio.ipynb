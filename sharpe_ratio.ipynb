{
  "nbformat": 4,
  "nbformat_minor": 0,
  "metadata": {
    "colab": {
      "name": "sharpe_ratio.ipynb",
      "provenance": [],
      "authorship_tag": "ABX9TyMzFgablZGJEs4Cacgd4RS2",
      "include_colab_link": true
    },
    "kernelspec": {
      "name": "python3",
      "display_name": "Python 3"
    },
    "language_info": {
      "name": "python"
    }
  },
  "cells": [
    {
      "cell_type": "markdown",
      "metadata": {
        "id": "view-in-github",
        "colab_type": "text"
      },
      "source": [
        "<a href=\"https://colab.research.google.com/github/genesio44/sharpe_ratio/blob/main/sharpe_ratio.ipynb\" target=\"_parent\"><img src=\"https://colab.research.google.com/assets/colab-badge.svg\" alt=\"Open In Colab\"/></a>"
      ]
    },
    {
      "cell_type": "markdown",
      "metadata": {
        "id": "kq22pD1SBxzB"
      },
      "source": [
        "#A EFICIÊNCIA DO ÍNDICE DE SHARPE COMO MEIO DE TOMADA DE DECISÃO NA ALOCAÇÃO DE PORTIFÓLIO\n",
        "<p>O desejo, nem sempre alcançável, de todo investidor é obter o máximo de retorno com o mínimo risco. No intuito de satisfazer esse desejo, são criados os modelos de otimização de portifólio. O Índice de Sharpe, por exemplo,  é um indicador que avalia a rentabilidade de um investimento em relação ao risco de sua aplicação. </p>\n",
        "<p>Neste projeto, atribuiremos alocações aleatórias para um dado grupo de ações pra encontrar a alocação que maximizou o Índice de Sharpe em determinado ano.\n",
        "Em seguida, verificaremos se essa alocação consegue figurar entre as 5% melhores alocações para o ano seguinte, também de acordo com o Índice de Sharpe.</p>"
      ]
    },
    {
      "cell_type": "markdown",
      "metadata": {
        "id": "NasRm1FLMCi4"
      },
      "source": [
        "#PACOTES NECESSÁRIOS"
      ]
    },
    {
      "cell_type": "code",
      "metadata": {
        "id": "sZYWbLv2HGHs"
      },
      "source": [
        "# Caso ainda não o possua instalado, instalar o yfinance"
      ],
      "execution_count": 1,
      "outputs": []
    },
    {
      "cell_type": "code",
      "metadata": {
        "id": "eLrvS-j5AZAa"
      },
      "source": [
        "pip install yfinance --upgrade --no-cache-dir"
      ],
      "execution_count": null,
      "outputs": []
    },
    {
      "cell_type": "code",
      "metadata": {
        "id": "SJdN7Y2k3qvM"
      },
      "source": [
        "import yfinance as yf #Acessa as informações das ações no Yahoo Finance\n",
        "from datetime import datetime #Realiza manipulações de data\n",
        "from datetime import timedelta #Realiza cálculos de variação de tempo\n",
        "from dateutil.relativedelta import relativedelta #Realiza o cálculo para variação mensal\n",
        "import numpy as np #Realiza o processamento de diversas funções matemáticas\n",
        "import pandas as pd #Realiza as alterações necessárias nos dataframes\n",
        "from pandas_datareader import data\n",
        "import matplotlib.pyplot as plt #Plota os gráficos, caso seja necessário\n",
        "%matplotlib inline"
      ],
      "execution_count": 3,
      "outputs": []
    },
    {
      "cell_type": "markdown",
      "metadata": {
        "id": "xA6sKqmpOJL2"
      },
      "source": [
        "#ENCONTRANDO O PORTIFÓLIO ÓTIMO"
      ]
    },
    {
      "cell_type": "markdown",
      "metadata": {
        "id": "bug92ZGJMNB_"
      },
      "source": [
        "<p>Criamos uma lista com os códigos das ações que serão utilizadas no experimento (nesse caso, as ações que compõem o meu portifólio em 2021).</p>\n",
        "<p>Vale lembrar que colocaremos o .SA ao final dos tickers, para adequar-se à nomeclatura utilizada pelo Yahoo Finance para as ações da bolsa brasileira.</p>"
      ]
    },
    {
      "cell_type": "code",
      "metadata": {
        "id": "W7iqEyLHeNAh"
      },
      "source": [
        "stocks = ['WEGE3.SA',\n",
        "'BRML3.SA',\n",
        "'LOGG3.SA',\n",
        "'EQTL3.SA',\n",
        "'HYPE3.SA',\n",
        "'LREN3.SA',\n",
        "'RAPT4.SA',\n",
        "'BBAS3.SA',\n",
        "'ITSA4.SA',\n",
        "'QUAL3.SA',\n",
        "'VULC3.SA',\n",
        "'VVAR3.SA',\n",
        "'MGLU3.SA',\n",
        "'AZUL4.SA',\n",
        "'LEVE3.SA',\n",
        "'MDIA3.SA',\n",
        "'EGIE3.SA'\n",
        "]"
      ],
      "execution_count": 4,
      "outputs": []
    },
    {
      "cell_type": "markdown",
      "metadata": {
        "id": "v5bhUWpbMgGf"
      },
      "source": [
        "<p>Definimos então uma fórmula que consiga nos fornecer uma grande quantidade de alocações possíveis, além dos respectivos retornos e volatilidades.</p>\n",
        "<p>A ideia aqui é montar a fórmula padrão que nos retornará as informações para qualquer ano escolhido.</p>"
      ]
    },
    {
      "cell_type": "code",
      "metadata": {
        "id": "03E4hSReHfqH"
      },
      "source": [
        "def ports(ano):\n",
        "  end = str(ano)+'-12-31' #Define a data final como dia 31 de dezembro do ano utilizado\n",
        "  start = str(ano)+'-01-01' #Define a data inicial com dia 01 de janeiro do ano utilizado\n",
        "  pf_data = pd.DataFrame() #Cria um dataframe\n",
        "  for s in stocks:\n",
        "    pf_data[s] = yf.Ticker(s).history(start=start,end=end)['Close'] #Cria um loop para obter as cotações de fechamento da ações da nossa lista durante o período\n",
        "  cov_matrix = pf_data.pct_change().apply(lambda x: np.log(1+x)).cov() #Calcula a matriz de covariância entre essas ações\n",
        "  ind_er = np.log(pf_data/pf_data.shift(1)).mean()*250 #O logaritmo das variações de preços nos dá o retorno esperado diário\n",
        "  #multiplicando esse valor pela quantidade de dias úteis (250), obtem o retorno esperado anual\n",
        "  p_ret = [] # Cria um intervalo vazio para o retorno esperado de cada portifólio\n",
        "  p_vol = [] # Cria um intervalo vazio para a volatilidade ou risco de cada portifólio\n",
        "  p_weights = [] # Cria um intervalo vazio para os pesos de cada ação no portifólio\n",
        "  num_portfolios = 100000 #Define a quantidade de portifólios que desejamos testar\n",
        "  for portfolio in range(num_portfolios): #Cria um loop para a obtenção de  portifólios\n",
        "    weights = np.random.random(len(stocks)) #Define números aleatórios para os pesos de cada ação\n",
        "    weights = weights/np.sum(weights) #Divide estes números por sua soma, para obter o valor aleatório em percentual\n",
        "    p_weights.append(weights) #Adiciona ao respectivo intervalo\n",
        "    returns = np.dot(weights, ind_er) # Obtém o retorno dos portifólios multiplicando o retorno esperado anual pelo peso de cada ação\n",
        "    p_ret.append(returns) #Adiciona ao respectivo intervalo\n",
        "    var = cov_matrix.mul(weights, axis=0).mul(weights, axis=1).sum().sum()#Calcula a variância dos portifólios\n",
        "    sd = np.sqrt(var) # Obtem o desvio padrão através da raiz quadrada da variância\n",
        "    ann_sd = sd*np.sqrt(250) #Multiplica o desvio padrão pela quantidade de dias úteis\n",
        "    p_vol.append(ann_sd) #Adiciona ao respectivo intervalo\n",
        "    data = {'Returns':p_ret, 'Volatility':p_vol}\n",
        "  for counter, symbol in enumerate(pf_data.columns.tolist()):\n",
        "      #print(counter, symbol)\n",
        "      data[symbol] = [w[counter] for w in p_weights]\n",
        "  portfolios  = pd.DataFrame(data)\n",
        "  return portfolios"
      ],
      "execution_count": 13,
      "outputs": []
    },
    {
      "cell_type": "markdown",
      "metadata": {
        "id": "UWpRhJxjM2P-"
      },
      "source": [
        "Utilizamos a fórmula que acabamos de definir para encontrar a relação de possíveis alocações para 2018:"
      ]
    },
    {
      "cell_type": "code",
      "metadata": {
        "id": "_2yf6VheJjpS"
      },
      "source": [
        "base2018 = ports(2018)"
      ],
      "execution_count": 14,
      "outputs": []
    },
    {
      "cell_type": "markdown",
      "metadata": {
        "id": "JGvvgEcuM-2H"
      },
      "source": [
        "Agora basta encontrar o portifólio que maximiza o Índice de Sharpe, o que podemos fazer da seguinte forma:"
      ]
    },
    {
      "cell_type": "code",
      "metadata": {
        "colab": {
          "base_uri": "https://localhost:8080/"
        },
        "id": "wnB9biNddwx2",
        "outputId": "69c68ddf-deb5-462c-8c52-c8b14efa4ec0"
      },
      "source": [
        "\n",
        "rf=0.01 #Define um valor de remuneração para o ativo livre de risco\n",
        "opt2018 = base2018.iloc[((base2018['Returns']-rf)/base2018['Volatility']).idxmax()] #Encontra a alocação que maximiza a relação retorno risco\n",
        "opt2018"
      ],
      "execution_count": 15,
      "outputs": [
        {
          "output_type": "execute_result",
          "data": {
            "text/plain": [
              "Returns       0.488989\n",
              "Volatility    0.103861\n",
              "WEGE3.SA      0.071777\n",
              "BRML3.SA      0.037744\n",
              "LOGG3.SA      0.180270\n",
              "EQTL3.SA      0.089863\n",
              "HYPE3.SA      0.037589\n",
              "LREN3.SA      0.083765\n",
              "RAPT4.SA      0.010120\n",
              "BBAS3.SA      0.003602\n",
              "ITSA4.SA      0.038129\n",
              "QUAL3.SA      0.019611\n",
              "VULC3.SA      0.158847\n",
              "VVAR3.SA      0.025941\n",
              "MGLU3.SA      0.076976\n",
              "AZUL4.SA      0.022535\n",
              "LEVE3.SA      0.038274\n",
              "MDIA3.SA      0.035370\n",
              "EGIE3.SA      0.069587\n",
              "Name: 74206, dtype: float64"
            ]
          },
          "metadata": {},
          "execution_count": 15
        }
      ]
    },
    {
      "cell_type": "markdown",
      "metadata": {
        "id": "5QgvSzBFP9Bd"
      },
      "source": [
        "#VERIFICANDO O DESEMPENHO PARA OS ANOS POSTERIORES"
      ]
    },
    {
      "cell_type": "markdown",
      "metadata": {
        "id": "jGhS6P7TNEHf"
      },
      "source": [
        "Criamos agora uma lista contendo apenas os respectivos pesos das ações do portifólio ótimo:\n"
      ]
    },
    {
      "cell_type": "code",
      "metadata": {
        "id": "dS-qPZxmKKs4"
      },
      "source": [
        "port_weights = opt2018[2:19]"
      ],
      "execution_count": 17,
      "outputs": []
    },
    {
      "cell_type": "markdown",
      "metadata": {
        "id": "gTLg9YKGNLCv"
      },
      "source": [
        "Criamos uma fórmula semelhante, mas utilizando os pesos do portifólio ótimo de 2018, para obter a relação retorno risco desta alocação nos demais anos:\n"
      ]
    },
    {
      "cell_type": "code",
      "metadata": {
        "id": "P_PR1_dnsYWD"
      },
      "source": [
        "def result(ano):\n",
        "  pf_data = pd.DataFrame()\n",
        "  for s in stocks:\n",
        "      end = str(ano)+'-12-31'\n",
        "      start = str(ano)+'-01-01'\n",
        "      pf_data[s] = yf.Ticker(s).history(start=start,end=end)['Close']\n",
        "  ind_er = np.log(pf_data/pf_data.shift(1)).mean()*250\n",
        "  port_er = (port_weights*ind_er).sum() #Observe que utilizamos a lista com os pesos do portifólio ótimo\n",
        "  cov_matrix = pf_data.pct_change().apply(lambda x: np.log(1+x)).cov()\n",
        "  var = cov_matrix.mul(port_weights, axis=0).mul(port_weights, axis=1).sum().sum() #Aqui também utilizamos a lista com os pesos do portifólio ótimo\n",
        "  sd = np.sqrt(var) \n",
        "  ann_sd = sd*np.sqrt(250) \n",
        "  sharpe = (port_er-rf)/ann_sd\n",
        "  return sharpe"
      ],
      "execution_count": 18,
      "outputs": []
    },
    {
      "cell_type": "markdown",
      "metadata": {
        "id": "aKRnRt5HNSHW"
      },
      "source": [
        "Utilizamos a fórmula que acabamos de criar para encontrar a relação retorno risco do nosso portifólio ótimo para 2019:\n"
      ]
    },
    {
      "cell_type": "code",
      "metadata": {
        "colab": {
          "base_uri": "https://localhost:8080/"
        },
        "id": "H93XycO5RNuf",
        "outputId": "86dde440-d69e-4236-e37a-24487551f231"
      },
      "source": [
        "result(2019)"
      ],
      "execution_count": 19,
      "outputs": [
        {
          "output_type": "execute_result",
          "data": {
            "text/plain": [
              "2.258593197511229"
            ]
          },
          "metadata": {},
          "execution_count": 19
        }
      ]
    },
    {
      "cell_type": "markdown",
      "metadata": {
        "id": "_9pW3mssQ7mV"
      },
      "source": [
        "Encontramos a relação de possíveis alocações para 2019 e ordenamos de acordo com o Índice de Sharpe:"
      ]
    },
    {
      "cell_type": "code",
      "metadata": {
        "id": "suFI66nD2t_e",
        "colab": {
          "base_uri": "https://localhost:8080/"
        },
        "outputId": "e5a666d7-fe3a-483f-f711-7e1e14f04395"
      },
      "source": [
        "base2019 = ports(2019)\n",
        "base2019 = pd.DataFrame(sorted((base2019['Returns']-rf)/base2019['Volatility'])) \n",
        "base2019.iloc[94999] #Conseguimos encontrar também o valor que define a relação retorno risco das 5% melhores alocações para 2019"
      ],
      "execution_count": 20,
      "outputs": [
        {
          "output_type": "execute_result",
          "data": {
            "text/plain": [
              "0    2.550996\n",
              "Name: 94999, dtype: float64"
            ]
          },
          "metadata": {},
          "execution_count": 20
        }
      ]
    },
    {
      "cell_type": "markdown",
      "metadata": {
        "id": "X8I6ORkbRnb2"
      },
      "source": [
        "Verificamos então se a relação retorno risco (sharpe ratio) do nosso portifólio ótimo de 2018 figura entre as 5% melhores alocações para 2019:\n"
      ]
    },
    {
      "cell_type": "code",
      "metadata": {
        "colab": {
          "base_uri": "https://localhost:8080/"
        },
        "id": "GQG3raBMma8z",
        "outputId": "f08bacae-9180-4c06-943a-75bc14062180"
      },
      "source": [
        "result(2019)>= base2019.iloc[94999]"
      ],
      "execution_count": 23,
      "outputs": [
        {
          "output_type": "execute_result",
          "data": {
            "text/plain": [
              "0    False\n",
              "Name: 94999, dtype: bool"
            ]
          },
          "metadata": {},
          "execution_count": 23
        }
      ]
    },
    {
      "cell_type": "markdown",
      "metadata": {
        "id": "x_BjqIjeR8yq"
      },
      "source": [
        "Como o resultado foi negativo, podemos tentar ser menos exigentes e verificar se a relação figura entre as 20% melhores alocações para 2019:\n"
      ]
    },
    {
      "cell_type": "code",
      "metadata": {
        "id": "0JR_MMEVB5q9",
        "colab": {
          "base_uri": "https://localhost:8080/"
        },
        "outputId": "ce2f07fb-7289-4452-88b3-74f6ce958358"
      },
      "source": [
        "result(2019)>= base2019.iloc[79999]"
      ],
      "execution_count": 27,
      "outputs": [
        {
          "output_type": "execute_result",
          "data": {
            "text/plain": [
              "0    False\n",
              "Name: 79999, dtype: bool"
            ]
          },
          "metadata": {},
          "execution_count": 27
        }
      ]
    },
    {
      "cell_type": "markdown",
      "metadata": {
        "id": "-kwpMHjxSP-U"
      },
      "source": [
        "Para ser mais preciso, verificaremos a porcentagem exata de portifólios aleatórios que a nossa alocação ótima de 2018 consegue superar em 2019:\n"
      ]
    },
    {
      "cell_type": "code",
      "metadata": {
        "id": "gH7_U5_yYyGX",
        "colab": {
          "base_uri": "https://localhost:8080/",
          "height": 173
        },
        "outputId": "249dcd36-49f4-4779-8216-00b6eafc034e"
      },
      "source": [
        "a = result(2019)>= base2019\n",
        "a.describe()"
      ],
      "execution_count": 66,
      "outputs": [
        {
          "output_type": "execute_result",
          "data": {
            "text/html": [
              "<div>\n",
              "<style scoped>\n",
              "    .dataframe tbody tr th:only-of-type {\n",
              "        vertical-align: middle;\n",
              "    }\n",
              "\n",
              "    .dataframe tbody tr th {\n",
              "        vertical-align: top;\n",
              "    }\n",
              "\n",
              "    .dataframe thead th {\n",
              "        text-align: right;\n",
              "    }\n",
              "</style>\n",
              "<table border=\"1\" class=\"dataframe\">\n",
              "  <thead>\n",
              "    <tr style=\"text-align: right;\">\n",
              "      <th></th>\n",
              "      <th>0</th>\n",
              "    </tr>\n",
              "  </thead>\n",
              "  <tbody>\n",
              "    <tr>\n",
              "      <th>count</th>\n",
              "      <td>100000</td>\n",
              "    </tr>\n",
              "    <tr>\n",
              "      <th>unique</th>\n",
              "      <td>2</td>\n",
              "    </tr>\n",
              "    <tr>\n",
              "      <th>top</th>\n",
              "      <td>True</td>\n",
              "    </tr>\n",
              "    <tr>\n",
              "      <th>freq</th>\n",
              "      <td>50567</td>\n",
              "    </tr>\n",
              "  </tbody>\n",
              "</table>\n",
              "</div>"
            ],
            "text/plain": [
              "             0\n",
              "count   100000\n",
              "unique       2\n",
              "top       True\n",
              "freq     50567"
            ]
          },
          "metadata": {},
          "execution_count": 66
        }
      ]
    },
    {
      "cell_type": "code",
      "metadata": {
        "colab": {
          "base_uri": "https://localhost:8080/"
        },
        "id": "f2W_pXRKh0U-",
        "outputId": "f92dbf52-0536-4050-ad6b-b89a2efac1d7"
      },
      "source": [
        "porcentagem = (a.describe()[0]['freq'])/(a.describe()[0]['count'])\n",
        "print('Nosso portifólio ótimo de 2018 consegue superar '+str(round(porcentagem*100))+'% dos portifólios aleatórios de 2019')"
      ],
      "execution_count": 72,
      "outputs": [
        {
          "output_type": "stream",
          "text": [
            "Nosso portifólio ótimo consegue superar 51% dos portifólios aleatórios de 2019\n"
          ],
          "name": "stdout"
        }
      ]
    },
    {
      "cell_type": "markdown",
      "metadata": {
        "id": "OoK43VJzy8fi"
      },
      "source": [
        "#**CONCLUSÕES**\n"
      ]
    },
    {
      "cell_type": "markdown",
      "metadata": {
        "id": "A30VVTSmQR5V"
      },
      "source": [
        "<p> Através da nossa análise, conseguimos observar que a alocação que maximiza o Índice de Sharpe para 2018 não apresenta o mesmo desempenho em 2019. O arcabouço utilizado pode ser facilmente replicado para outros anos e análises mais profundas, mas o que as informações sugerem para o período em questão é que o Índice de Sharpe, apesar de ser um ótimo mecanismo para a análise do desempenho passado de um portifólio, não é um parâmetro suficientemente bom para basear uma alocação futura.</p>  "
      ]
    }
  ]
}